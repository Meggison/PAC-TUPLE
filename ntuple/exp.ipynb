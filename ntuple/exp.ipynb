{
 "cells": [
  {
   "cell_type": "code",
   "execution_count": null,
   "id": "26bf9d0a",
   "metadata": {},
   "outputs": [],
   "source": [
    "from train_util import runexp, trainReIDNet, testReIDNet, debug_kl_components, debug_kl_computation\n",
    "from tqdm import trange\n",
    "import torch\n",
    "\n",
    "runexp(\n",
    "            name_data='cifar10',\n",
    "            objective='nested_ntuple', \n",
    "            model='cnn',\n",
    "            N=3,\n",
    "            sigma_prior=0.1,\n",
    "            pmin=1e-4,\n",
    "            learning_rate=0.005,  # Increased  from 1e-3\n",
    "            kl_penalty=0.01,\n",
    "            momentum=0.9,\n",
    "            layers=4,\n",
    "            train_epochs=30,\n",
    "            batch_size=32,\n",
    "            embedding_dim=128, \n",
    "            verbose=True,\n",
    "            verbose_test=True,\n",
    "            device='cuda' if torch.cuda.is_available() else 'cpu',\n",
    "            run_baseline=True,\n",
    "            debug_mode=True\n",
    "        )"
   ]
  }
 ],
 "metadata": {
  "language_info": {
   "name": "python"
  }
 },
 "nbformat": 4,
 "nbformat_minor": 5
}
